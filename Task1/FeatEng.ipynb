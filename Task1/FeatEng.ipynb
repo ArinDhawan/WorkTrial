{
 "cells": [
  {
   "cell_type": "markdown",
   "metadata": {},
   "source": [
    "# TASK 1 : Feature Engineering Submission - Arin Dhawan"
   ]
  },
  {
   "cell_type": "markdown",
   "metadata": {},
   "source": [
    "Aim: To come up with 5 new features apart from the existing and in-development ones. "
   ]
  },
  {
   "cell_type": "markdown",
   "metadata": {},
   "source": [
    "### FEAT 1 : Trade Momentum"
   ]
  },
  {
   "cell_type": "code",
   "execution_count": null,
   "metadata": {},
   "outputs": [],
   "source": [
    "def calculate_trade_momentum(trades):\n",
    "    returns = trades['Close'].pct_change().dropna()\n",
    "    momentum = returns.rolling(window=10).sum()\n",
    "    trades['Trade_Momentum'] = momentum\n",
    "    return trades"
   ]
  },
  {
   "cell_type": "markdown",
   "metadata": {},
   "source": [
    "### FEAT 2: Order Cancelation Ration"
   ]
  },
  {
   "cell_type": "code",
   "execution_count": null,
   "metadata": {},
   "outputs": [],
   "source": [
    "def calculate_order_cancellation_ratio(trades):\n",
    "    trades['Order_Cancellation_Ratio'] = trades['Cancelled_Orders'] / trades['Total_Orders']\n",
    "    return trades\n"
   ]
  },
  {
   "cell_type": "markdown",
   "metadata": {},
   "source": [
    "### FEAT 3 : VWAP Deviation"
   ]
  },
  {
   "cell_type": "code",
   "execution_count": null,
   "metadata": {},
   "outputs": [],
   "source": [
    "def calculate_vwap_deviation(trades):\n",
    "    trades['VWAP'] = (trades['Volume'] * trades['Close']).cumsum() / trades['Volume'].cumsum()\n",
    "    trades['VWAP_Deviation'] = (trades['Close'] - trades['VWAP']) / trades['VWAP']\n",
    "    return trades\n"
   ]
  },
  {
   "cell_type": "markdown",
   "metadata": {},
   "source": [
    "### FEAT 4 : Order Flow Imbalance"
   ]
  },
  {
   "cell_type": "code",
   "execution_count": null,
   "metadata": {},
   "outputs": [],
   "source": [
    "def calculate_order_flow_imbalance(trades):\n",
    "    trades['Order_Flow_Imbalance'] = (trades['Buy_Orders'] - trades['Sell_Orders']) / (trades['Buy_Orders'] + trades['Sell_Orders'])\n",
    "    return trades\n"
   ]
  },
  {
   "cell_type": "markdown",
   "metadata": {},
   "source": [
    "### FEAT 5 : Price Reversion"
   ]
  },
  {
   "cell_type": "code",
   "execution_count": null,
   "metadata": {},
   "outputs": [],
   "source": [
    "def calculate_price_reversion_indicator(trades):\n",
    "    trades['Price_Reversion_Indicator'] = trades['Close'] - trades['Close'].rolling(window=20).mean()\n",
    "    return trades\n"
   ]
  }
 ],
 "metadata": {
  "kernelspec": {
   "display_name": "Python 3",
   "language": "python",
   "name": "python3"
  },
  "language_info": {
   "name": "python",
   "version": "3.11.4"
  }
 },
 "nbformat": 4,
 "nbformat_minor": 2
}
