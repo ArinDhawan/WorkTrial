{
 "cells": [
  {
   "cell_type": "markdown",
   "metadata": {},
   "source": [
    "# <u><b>TASK 1 : Feature Engineering Submission </b></u> - Arin Dhawan"
   ]
  },
  {
   "cell_type": "markdown",
   "metadata": {},
   "source": [
    "\n",
    "<u><b>Aim</b></u>: To come up with 5 new features apart from the existing and in-development ones.\n",
    "\n",
    "There are certain code presumptions I made to implement these features individually and a final code implementation in-part with the given MVP implementation. \n",
    "\n",
    "We assume there is an existing DB <i>'trades'</i> within which we implement these features."
   ]
  },
  {
   "cell_type": "markdown",
   "metadata": {},
   "source": [
    "### Feature 1 : Trade Momentum"
   ]
  },
  {
   "cell_type": "markdown",
   "metadata": {},
   "source": [
    "We can calcuate the Trade momentum by summing up the percentage changes for the last 10 <i>(or n trades)</i> trades. Easier identification for:\n",
    "\n",
    "* Short-term trends \n",
    "* Potential price movement based on recent activity "
   ]
  },
  {
   "cell_type": "markdown",
   "metadata": {},
   "source": [
    "A sample implementation would be as follows:"
   ]
  },
  {
   "cell_type": "code",
   "execution_count": 1,
   "metadata": {},
   "outputs": [],
   "source": [
    "def trade_momentum(trades):\n",
    "    returns = trades['Close'].pct_change().dropna()\n",
    "    momentum = returns.rolling(window=10).sum()             # can change with any number n \n",
    "    trades['Trade_Momentum'] = momentum\n",
    "    return trades"
   ]
  },
  {
   "cell_type": "markdown",
   "metadata": {},
   "source": [
    "### Feature 2: Order Cancelation Ratio"
   ]
  },
  {
   "cell_type": "markdown",
   "metadata": {},
   "source": [
    "We can calculate this feature by taking into proportion of cancelled orders to total orders. This can prove us an indication into:\n",
    "\n",
    "* Changing sentiment for buyers/sellers\n",
    "* Affect on liquidity and stability "
   ]
  },
  {
   "cell_type": "markdown",
   "metadata": {},
   "source": [
    "A sample implementation would look like: "
   ]
  },
  {
   "cell_type": "code",
   "execution_count": 3,
   "metadata": {},
   "outputs": [],
   "source": [
    "def calculate_order_cancellation_ratio(trades):\n",
    "    trades['Order_Cancellation_Ratio'] = trades['Cancelled_Orders'] / trades['Total_Orders']\n",
    "    return trades"
   ]
  },
  {
   "cell_type": "markdown",
   "metadata": {},
   "source": [
    "### Feature 3 : Volume-Weighted Average Price (VWAP) Deviation"
   ]
  },
  {
   "cell_type": "markdown",
   "metadata": {},
   "source": [
    "VWAP Deviation helps us calculated how much the current price deviates from the VWAP price. It help us determine whether trades are occuring in favorable or unfavorable price relative to the avg market value."
   ]
  },
  {
   "cell_type": "markdown",
   "metadata": {},
   "source": [
    "We can implement and calculate VWAP dev as follows:"
   ]
  },
  {
   "cell_type": "code",
   "execution_count": 4,
   "metadata": {},
   "outputs": [],
   "source": [
    "def calculate_vwap_deviation(trades):\n",
    "    trades['VWAP'] = (trades['Volume'] * trades['Close']).cumsum() / trades['Volume'].cumsum()\n",
    "    trades['VWAP_Deviation'] = (trades['Close'] - trades['VWAP']) / trades['VWAP']\n",
    "    return trades"
   ]
  },
  {
   "cell_type": "markdown",
   "metadata": {},
   "source": [
    "### Feature 4 : Order Flow Imbalance\n",
    "\n",
    "This feature helps us determine the difference b/w buy and sell order relative to total number of orders. It can help us with:\n",
    "\n",
    "* Examine the BUY/SELL pressure in the market \n",
    "* Predict price changes \n",
    "\n",
    "An implementation would look as follows:"
   ]
  },
  {
   "cell_type": "code",
   "execution_count": null,
   "metadata": {},
   "outputs": [],
   "source": [
    "def calculate_order_flow_imbalance(trades):\n",
    "    trades['Order_Flow_Imbalance'] = (trades['Buy_Orders'] - trades['Sell_Orders']) / (trades['Buy_Orders'] + trades['Sell_Orders'])\n",
    "    return trades"
   ]
  },
  {
   "cell_type": "markdown",
   "metadata": {},
   "source": [
    "### Feature 5 : Price Reversion\n",
    "\n",
    "This indicator helps us measure the deviation from current price to 20 period moving average. It can help us look into mean-reverse opportunities where price might go back to the avg. "
   ]
  },
  {
   "cell_type": "code",
   "execution_count": null,
   "metadata": {},
   "outputs": [],
   "source": [
    "def calculate_price_reversion_indicator(trades):\n",
    "    trades['Price_Reversion_Indicator'] = trades['Close'] - trades['Close'].rolling(window=20).mean()\n",
    "    return trades\n"
   ]
  },
  {
   "cell_type": "markdown",
   "metadata": {},
   "source": [
    "## <b>Rough Implementation </b>\n",
    "\n",
    "The above given features can be implemented in any given db. But, here is my approach for implementing the new features cohesively in the given RL configuration. I am first going to define a seperate class definiton, then preprocess with the already existing code. "
   ]
  },
  {
   "cell_type": "code",
   "execution_count": null,
   "metadata": {},
   "outputs": [],
   "source": [
    "import pandas as pd\n",
    "import numpy as np\n",
    "import talib as ta\n",
    "\n",
    "# GIVEN \n",
    "class TechnicalIndicators:\n",
    "    def __init__(self, data):\n",
    "        self.data = data\n",
    "\n",
    "    def add_momentum_indicators(self):\n",
    "        self.data['RSI'] = ta.RSI(self.data['Close'], timeperiod=14)\n",
    "        self.data['MACD'], self.data['MACD_signal'], self.data['MACD_hist'] = ta.MACD(self.data['Close'], fastperiod=12, slowperiod=26, signalperiod=9)\n",
    "        self.data['Stoch_k'], self.data['Stoch_d'] = ta.STOCH(self.data['High'], self.data['Low'], self.data['Close'],\n",
    "                                                              fastk_period=14, slowk_period=3, slowd_period=3)\n",
    "\n",
    "    def add_volume_indicators(self):\n",
    "        self.data['OBV'] = ta.OBV(self.data['Close'], self.data['Volume'])\n",
    "\n",
    "    def add_volatility_indicators(self):\n",
    "        self.data['Upper_BB'], self.data['Middle_BB'], self.data['Lower_BB'] = ta.BBANDS(self.data['Close'], timeperiod=20)\n",
    "        self.data['ATR_1'] = ta.ATR(self.data['High'], self.data['Low'], self.data['Close'], timeperiod=1)\n",
    "        self.data['ATR_2'] = ta.ATR(self.data['High'], self.data['Low'], self.data['Close'], timeperiod=2)\n",
    "        self.data['ATR_5'] = ta.ATR(self.data['High'], self.data['Low'], self.data['Close'], timeperiod=5)\n",
    "        self.data['ATR_10'] = ta.ATR(self.data['High'], self.data['Low'], self.data['Close'], timeperiod=10)\n",
    "        self.data['ATR_20'] = ta.ATR(self.data['High'], self.data['Low'], self.data['Close'], timeperiod=20)\n",
    "\n",
    "    def add_trend_indicators(self):\n",
    "        self.data['ADX'] = ta.ADX(self.data['High'], self.data['Low'], self.data['Close'], timeperiod=14)\n",
    "        self.data['+DI'] = ta.PLUS_DI(self.data['High'], self.data['Low'], self.data['Close'], timeperiod=14)\n",
    "        self.data['-DI'] = ta.MINUS_DI(self.data['High'], self.data['Low'], self.data['Close'], timeperiod=14)\n",
    "        self.data['CCI'] = ta.CCI(self.data['High'], self.data['Low'], self.data['Close'], timeperiod=5)\n",
    "\n",
    "    def add_other_indicators(self):\n",
    "        self.data['DLR'] = np.log(self.data['Close'] / self.data['Close'].shift(1))\n",
    "        self.data['TWAP'] = self.data['Close'].expanding().mean()\n",
    "        self.data['VWAP'] = (self.data['Volume'] * (self.data['High'] + self.data['Low']) / 2).cumsum() / self.data['Volume'].cumsum()\n",
    "\n",
    "    \n",
    "\n",
    "    def add_all_indicators(self):\n",
    "        self.add_momentum_indicators()\n",
    "        self.add_volume_indicators()\n",
    "        self.add_volatility_indicators()\n",
    "        self.add_trend_indicators()\n",
    "        self.add_other_indicators()\n",
    "        return self.data\n",
    "\n",
    "# my code: \n",
    "# different class similar to the Technical Indicators \n",
    "\n",
    "class CustomIndicators:\n",
    "    def __init__(self, data):\n",
    "        self.data = data\n",
    "\n",
    "    def add_trade_momentum(self, window=10):\n",
    "        self.data['trade_momentum'] = self.data['Volume'].rolling(window=window).sum()\n",
    "\n",
    "    def add_order_cancellation_ratio(self):\n",
    "        self.data['order_cancellation_ratio'] = self.data['order_cancellations'] / self.data['total_orders']\n",
    "\n",
    "    def add_vwap_deviation(self):\n",
    "        self.data['vwap_deviation'] = (self.data['Close'] - self.data['VWAP']) / self.data['VWAP']\n",
    "\n",
    "    def add_order_flow_imbalance(self):\n",
    "        self.data['order_flow_imbalance'] = self.data['buy_volume'] - self.data['sell_volume']\n",
    "\n",
    "    def add_price_reversion(self, window=20):\n",
    "        self.data['price_reversion'] = self.data['Close'] - self.data['Close'].rolling(window=window).mean()\n",
    "\n",
    "    def add_all_custom_indicators(self):\n",
    "        self.add_trade_momentum()\n",
    "        self.add_order_cancellation_ratio()\n",
    "        self.add_vwap_deviation()\n",
    "        self.add_order_flow_imbalance()\n",
    "        self.add_price_reversion()\n",
    "        return self.data\n",
    "\n",
    "# preprocess them \n",
    "\n",
    "# Already given :\n",
    "df = pd.read_csv('../xnas-itch-20230703.tbbo.csv')  # note: change relative path (might show error if copied)\n",
    "df['price']=df['price']/1e9\n",
    "df['bid_px_00']=df['bid_px_00']/1e9\n",
    "df['ask_px_00']=df['ask_px_00']/1e9\n",
    "\n",
    "df['Close'] = df['price']\n",
    "df['Volume'] = df['size']\n",
    "df['High'] = df[['bid_px_00', 'ask_px_00']].max(axis=1)\n",
    "df['Low'] = df[['bid_px_00', 'ask_px_00']].min(axis=1)\n",
    "df['Open'] = df['Close'].shift(1).fillna(df['Close'])\n",
    "\n",
    "\n",
    "# Changes made to add the new features \n",
    "df['liquidity'] = df['bid_sz_00'] * df['bid_px_00'] + df['ask_sz_00'] * df['ask_px_00']\n",
    "\n",
    "ti = TechnicalIndicators(df)\n",
    "df_with_indicators = ti.add_all_indicators()\n",
    "ci = CustomIndicators(df_with_indicators)\n",
    "df_with_all_indicators = ci.add_all_custom_indicators()\n",
    "market_features_df = df_with_indicators[35:]"
   ]
  }
 ],
 "metadata": {
  "kernelspec": {
   "display_name": "Python 3",
   "language": "python",
   "name": "python3"
  },
  "language_info": {
   "codemirror_mode": {
    "name": "ipython",
    "version": 3
   },
   "file_extension": ".py",
   "mimetype": "text/x-python",
   "name": "python",
   "nbconvert_exporter": "python",
   "pygments_lexer": "ipython3",
   "version": "3.11.4"
  }
 },
 "nbformat": 4,
 "nbformat_minor": 2
}
