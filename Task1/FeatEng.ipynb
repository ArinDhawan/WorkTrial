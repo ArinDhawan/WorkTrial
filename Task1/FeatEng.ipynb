{
 "cells": [
  {
   "cell_type": "markdown",
   "metadata": {},
   "source": [
    "# <u><b>TASK 1 : Feature Engineering Submission </b></u> - Arin Dhawan"
   ]
  },
  {
   "cell_type": "markdown",
   "metadata": {},
   "source": [
    "\n",
    "<u><b>Aim</b></u>: To come up with 5 new features apart from the existing and in-development ones.\n",
    "\n",
    "There are certain code presumptions I made to implement these features individually and a final code implementation in-part with the given MVP implementation. \n",
    "\n",
    "We assume there is an existing DB <i>'trades'</i> within which we implement these features."
   ]
  },
  {
   "cell_type": "markdown",
   "metadata": {},
   "source": [
    "### Feature 1 : Trade Momentum"
   ]
  },
  {
   "cell_type": "markdown",
   "metadata": {},
   "source": [
    "We can calcuate the Trade momentum by summing up the percentage changes for the last 10 <i>(or n trades)</i> trades. Easier identification for:\n",
    "\n",
    "* Short-term trends \n",
    "* Potential price movement based on recent activity "
   ]
  },
  {
   "cell_type": "markdown",
   "metadata": {},
   "source": [
    "A sample implementation would be as follows:"
   ]
  },
  {
   "cell_type": "code",
   "execution_count": 1,
   "metadata": {},
   "outputs": [],
   "source": [
    "def trade_momentum(trades):\n",
    "    returns = trades['Close'].pct_change().dropna()\n",
    "    momentum = returns.rolling(window=10).sum()             # can change with any number n \n",
    "    trades['Trade_Momentum'] = momentum\n",
    "    return trades"
   ]
  },
  {
   "cell_type": "markdown",
   "metadata": {},
   "source": [
    "### Feature 2: Order Cancelation Ratio"
   ]
  },
  {
   "cell_type": "markdown",
   "metadata": {},
   "source": [
    "We can calculate this feature by taking into proportion of cancelled orders to total orders. This can prove us an indication into:\n",
    "\n",
    "* Changing sentiment for buyers/sellers\n",
    "* Affect on liquidity and stability "
   ]
  },
  {
   "cell_type": "markdown",
   "metadata": {},
   "source": [
    "A sample implementation would look like: "
   ]
  },
  {
   "cell_type": "code",
   "execution_count": 3,
   "metadata": {},
   "outputs": [],
   "source": [
    "def calculate_order_cancellation_ratio(trades):\n",
    "    trades['Order_Cancellation_Ratio'] = trades['Cancelled_Orders'] / trades['Total_Orders']\n",
    "    return trades"
   ]
  },
  {
   "cell_type": "markdown",
   "metadata": {},
   "source": [
    "### Feature 3 : Volume-Weighted Average Price (VWAP) Deviation"
   ]
  },
  {
   "cell_type": "markdown",
   "metadata": {},
   "source": [
    "VWAP Deviation helps us calculated how much the current price deviates from the VWAP price. It help us determine whether trades are occuring in favorable or unfavorable price relative to the avg market value."
   ]
  },
  {
   "cell_type": "markdown",
   "metadata": {},
   "source": [
    "We can implement and calculate VWAP dev as follows:"
   ]
  },
  {
   "cell_type": "code",
   "execution_count": 4,
   "metadata": {},
   "outputs": [],
   "source": [
    "def calculate_vwap_deviation(trades):\n",
    "    trades['VWAP'] = (trades['Volume'] * trades['Close']).cumsum() / trades['Volume'].cumsum()\n",
    "    trades['VWAP_Deviation'] = (trades['Close'] - trades['VWAP']) / trades['VWAP']\n",
    "    return trades"
   ]
  },
  {
   "cell_type": "markdown",
   "metadata": {},
   "source": [
    "### Feature 4 : Order Flow Imbalance\n",
    "\n",
    "This feature helps us determine the difference b/w buy and sell order relative to total number of orders. It can help us with:\n",
    "\n",
    "* Examine the BUY/SELL pressure in the market \n",
    "* Predict price changes \n",
    "\n",
    "An implementation would look as follows:"
   ]
  },
  {
   "cell_type": "code",
   "execution_count": null,
   "metadata": {},
   "outputs": [],
   "source": [
    "def calculate_order_flow_imbalance(trades):\n",
    "    trades['Order_Flow_Imbalance'] = (trades['Buy_Orders'] - trades['Sell_Orders']) / (trades['Buy_Orders'] + trades['Sell_Orders'])\n",
    "    return trades"
   ]
  },
  {
   "cell_type": "markdown",
   "metadata": {},
   "source": [
    "### Feature 5 : Price Reversion\n",
    "\n",
    "This indicator helps us measure the deviation from current price to 20 period moving average. It can help us look into mean-reverse opportunities where price might go back to the avg. "
   ]
  },
  {
   "cell_type": "code",
   "execution_count": null,
   "metadata": {},
   "outputs": [],
   "source": [
    "def calculate_price_reversion_indicator(trades):\n",
    "    trades['Price_Reversion_Indicator'] = trades['Close'] - trades['Close'].rolling(window=20).mean()\n",
    "    return trades\n"
   ]
  }
 ],
 "metadata": {
  "kernelspec": {
   "display_name": "Python 3",
   "language": "python",
   "name": "python3"
  },
  "language_info": {
   "codemirror_mode": {
    "name": "ipython",
    "version": 3
   },
   "file_extension": ".py",
   "mimetype": "text/x-python",
   "name": "python",
   "nbconvert_exporter": "python",
   "pygments_lexer": "ipython3",
   "version": "3.11.4"
  }
 },
 "nbformat": 4,
 "nbformat_minor": 2
}
