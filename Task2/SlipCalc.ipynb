{
 "cells": [
  {
   "cell_type": "markdown",
   "metadata": {},
   "source": [
    "# <b>TASK 2 : Slippage Calculation Submission</b> - Arin Dhawan "
   ]
  },
  {
   "cell_type": "markdown",
   "metadata": {},
   "source": [
    "Aim: To come up with our own calculation implemention. "
   ]
  },
  {
   "cell_type": "markdown",
   "metadata": {},
   "source": [
    "#### Paper 3 summary :\n",
    "\n",
    "The paper comprehensively analyses trading costs and market impact in the financial markets. ​ It includes regression analysis results on the market impact of trades, summary statistics on the coverage of trading execution data, a methodology for calculating trading costs, comparisons of trading costs across different trade sizes, time periods, and countries, estimates of parameters for a trading cost model, average market impact and implementation shortfall for different categories, information on price impact regression and correlations of trading cost measures, calculation of actual transaction costs for ETFs, and information on market impact by exchange, size, and trade type.\n",
    "\n",
    "The paper also discusses trading costs in the context of different sample periods, trading metrics, and market regions, as well as the estimation and comparison of trading costs using different models and data sources. "
   ]
  },
  {
   "cell_type": "markdown",
   "metadata": {},
   "source": [
    "![image](../img/paper3.png)"
   ]
  },
  {
   "cell_type": "code",
   "execution_count": 2,
   "metadata": {},
   "outputs": [
    {
     "name": "stdout",
     "output_type": "stream",
     "text": [
      "Slippage: $2.00 per share\n",
      "Implementation Shortfall: $100.00\n"
     ]
    }
   ],
   "source": [
    "import numpy as np\n",
    "\n",
    "def calculate_slippage(theoretical_price, execution_price, quantity):\n",
    "    implementation_shortfall = (execution_price - theoretical_price) * quantity   # Calculate the implementation shortfall\n",
    "    slippage = implementation_shortfall / quantity                                # Calculate slippage\n",
    "    \n",
    "    return slippage, implementation_shortfall\n",
    "\n",
    "\n",
    "theoretical_price = 100.0  # Theoretical or benchmark price\n",
    "execution_price = 102.0  # Actual traded price\n",
    "quantity = 50  # Number of shares\n",
    "\n",
    "slippage, implementation_shortfall = calculate_slippage(theoretical_price, execution_price, quantity)\n",
    "\n",
    "print(f\"Slippage: ${slippage:.2f} per share\")\n",
    "print(f\"Implementation Shortfall: ${implementation_shortfall:.2f}\")\n"
   ]
  },
  {
   "cell_type": "markdown",
   "metadata": {},
   "source": [
    "#### Paper 4 Summary:\n",
    "\n",
    "This paper discusses the concept of slippage in financial trading and its paradoxical nature. Slippage refers to the transaction costs incurred by investors when buying or selling assets. While it is well-known that transaction costs are generally positive and result in systematic losses, the paradox arises from the fact that for every trade, there is a buy side and a sell side, and the total amount of assets and cash remains conserved. The author argues that the observation of systematic loss for all participants is intrinsic to the trading process due to the correlation between outstanding orders and price changes. ​\n",
    "\n",
    "The paper presents a formula for calculating slippage, which involves summing the product of exchanged quantities and price differences for each trade. The author also discusses the impact of execution times and the correlation between supply and demand imbalances and price changes. The paper concludes by suggesting that positive slippage is inherent to trading and cannot be completely eliminated."
   ]
  },
  {
   "cell_type": "markdown",
   "metadata": {},
   "source": [
    "![image](../img/paper4.png)"
   ]
  },
  {
   "cell_type": "code",
   "execution_count": 1,
   "metadata": {},
   "outputs": [
    {
     "name": "stdout",
     "output_type": "stream",
     "text": [
      "Total Slippage: $107.50\n"
     ]
    }
   ],
   "source": [
    "# Paper 4 implementation\n",
    "import numpy as np\n",
    "\n",
    "def calculate_total_slippage(trades, market_price):\n",
    "    total_slippage = 0\n",
    "    \n",
    "    for quantity, price in trades:\n",
    "        slippage_per_trade = quantity * (price - market_price)\n",
    "        total_slippage += slippage_per_trade\n",
    "    \n",
    "    return total_slippage\n",
    "\n",
    "\n",
    "trades = [\n",
    "    (10, 101.0),  # (quantity, price)\n",
    "    (20, 102.5),\n",
    "    (15, 103.0),\n",
    "    (5, 100.5)\n",
    "]\n",
    "market_price = 100.0  \n",
    "total_slippage = calculate_total_slippage(trades, market_price)\n",
    "print(f\"Total Slippage: ${total_slippage:.2f}\")\n"
   ]
  }
 ],
 "metadata": {
  "kernelspec": {
   "display_name": "Python 3",
   "language": "python",
   "name": "python3"
  },
  "language_info": {
   "codemirror_mode": {
    "name": "ipython",
    "version": 3
   },
   "file_extension": ".py",
   "mimetype": "text/x-python",
   "name": "python",
   "nbconvert_exporter": "python",
   "pygments_lexer": "ipython3",
   "version": "3.11.4"
  }
 },
 "nbformat": 4,
 "nbformat_minor": 2
}
